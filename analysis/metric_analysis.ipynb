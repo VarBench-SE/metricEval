{
 "cells": [
  {
   "cell_type": "markdown",
   "metadata": {},
   "source": [
    "# Metric analysis\n",
    "\n",
    "The folowing notebook presents **statistical** and **machine learning based** methods to analyze and select the most meaningfull features that predict the human score within a dataset of metrics"
   ]
  },
  {
   "cell_type": "markdown",
   "metadata": {},
   "source": [
    "### TODO\n",
    "\n",
    "\n",
    "https://chatgpt.com/c/67963c90-aca8-8001-8479-7efaac72c1ba"
   ]
  },
  {
   "cell_type": "markdown",
   "metadata": {},
   "source": []
  }
 ],
 "metadata": {
  "language_info": {
   "name": "python"
  }
 },
 "nbformat": 4,
 "nbformat_minor": 2
}
