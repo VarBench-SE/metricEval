{
 "cells": [
  {
   "cell_type": "code",
   "execution_count": 10,
   "metadata": {},
   "outputs": [
    {
     "name": "stderr",
     "output_type": "stream",
     "text": [
      "Map: 100%|██████████| 221/221 [00:00<00:00, 11478.01 examples/s]/s]\n",
      "Creating parquet from Arrow format: 100%|██████████| 3/3 [00:00<00:00, 212.27ba/s]\n",
      "Uploading the dataset shards: 100%|██████████| 1/1 [00:01<00:00,  1.99s/it]\n"
     ]
    },
    {
     "data": {
      "text/plain": [
       "CommitInfo(commit_url='https://huggingface.co/datasets/CharlyR/varbench-metric-evaluation/commit/aedf93ec1f46fc48cfd592a774daf407df8b2bfa', commit_message='Upload dataset', commit_description='', oid='aedf93ec1f46fc48cfd592a774daf407df8b2bfa', pr_url=None, repo_url=RepoUrl('https://huggingface.co/datasets/CharlyR/varbench-metric-evaluation', endpoint='https://huggingface.co', repo_type='dataset', repo_id='CharlyR/varbench-metric-evaluation'), pr_revision=None, pr_num=None)"
      ]
     },
     "execution_count": 10,
     "metadata": {},
     "output_type": "execute_result"
    }
   ],
   "source": [
    "from datasets import (\n",
    "    get_dataset_config_names,\n",
    "    concatenate_datasets,\n",
    "    Dataset,\n",
    "    load_dataset,\n",
    "    Image,\n",
    ")\n",
    "import PIL\n",
    "import io\n",
    "from huggingface_hub import login\n",
    "import os\n",
    "import pandas as pd\n",
    "\n",
    "\n",
    "all_configs = get_dataset_config_names(\"CharlyR/varbench-evaluation\")\n",
    "\n",
    "all_datasets: list[Dataset] = []\n",
    "\n",
    "for config in all_configs:\n",
    "    conf_ds = load_dataset(\"CharlyR/varbench-evaluation\", config, split=\"tikz\")\n",
    "    config_name_column = [config] * len(conf_ds)\n",
    "    all_datasets.append(conf_ds.add_column(\"config\", config_name_column))\n",
    "\n",
    "\n",
    "concat_datasets = concatenate_datasets(\n",
    "    all_datasets\n",
    ")  # works because all the metrics are the same, might eventually need to adapt it when more metrics are computed\n",
    "\n",
    "\n",
    "concat_df: pd.DataFrame = concat_datasets.to_pandas()\n",
    "\n",
    "concat_df = concat_df.explode(\n",
    "    [\n",
    "        col_name\n",
    "        for col_name in concat_df.columns\n",
    "        if \"Metric\" in col_name and not \"best\" in col_name\n",
    "    ]\n",
    "    + [\"images_result\", \"original_predictions\", \"predictions\", \"predictions_patches\"]\n",
    ")\n",
    "\n",
    "concat_df = concat_df.dropna()\n",
    "\n",
    "concat_datasets: Dataset = Dataset.from_pandas(concat_df)\n",
    "\n",
    "\n",
    "concat_datasets = (\n",
    "    concat_datasets.cast_column(\"image_solution\", Image(decode=True))\n",
    "    .cast_column(\"images_result\", Image(decode=True))\n",
    "    .cast_column(\"image_input\", Image(decode=True))\n",
    ")\n",
    "\n",
    "\n",
    "concat_datasets.push_to_hub(\"CharlyR/varbench-metric-evaluation\", config_name=\"raw\")"
   ]
  },
  {
   "cell_type": "code",
   "execution_count": 14,
   "metadata": {},
   "outputs": [
    {
     "name": "stderr",
     "output_type": "stream",
     "text": [
      "Creating parquet from Arrow format: 0ba [00:00, ?ba/s]:00<?, ?it/s]\n",
      "Uploading the dataset shards: 100%|██████████| 1/1 [00:00<00:00,  3.83it/s]\n"
     ]
    },
    {
     "data": {
      "text/plain": [
       "CommitInfo(commit_url='https://huggingface.co/datasets/CharlyR/varbench-metric-evaluation/commit/4ce38520d688f618112921197159973b742d4038', commit_message='Upload dataset', commit_description='', oid='4ce38520d688f618112921197159973b742d4038', pr_url=None, repo_url=RepoUrl('https://huggingface.co/datasets/CharlyR/varbench-metric-evaluation', endpoint='https://huggingface.co', repo_type='dataset', repo_id='CharlyR/varbench-metric-evaluation'), pr_revision=None, pr_num=None)"
      ]
     },
     "execution_count": 14,
     "metadata": {},
     "output_type": "execute_result"
    }
   ],
   "source": [
    "#WARNING:Removes the existing one\n",
    "# Create an empty treated dataset (or filter existing data)\n",
    "treated_df = concat_df.iloc[:0]  # Keeps the structure but removes rows\n",
    "\n",
    "# Convert to Hugging Face Dataset\n",
    "treated_dataset = Dataset.from_pandas(treated_df)\n",
    "treated_dataset.push_to_hub(\"CharlyR/varbench-metric-evaluation\", config_name=\"treated\")"
   ]
  },
  {
   "cell_type": "code",
   "execution_count": 6,
   "metadata": {},
   "outputs": [
    {
     "data": {
      "text/plain": [
       "{'id': Value(dtype='string', id=None),\n",
       " 'code': Value(dtype='string', id=None),\n",
       " 'instruction': Value(dtype='string', id=None),\n",
       " 'result_description': Value(dtype='string', id=None),\n",
       " 'difficulty': Value(dtype='string', id=None),\n",
       " 'patch': Value(dtype='string', id=None),\n",
       " 'code_solution': Value(dtype='string', id=None),\n",
       " 'image_solution': {'bytes': Value(dtype='binary', id=None),\n",
       "  'path': Value(dtype='null', id=None)},\n",
       " 'image_input': {'bytes': Value(dtype='binary', id=None),\n",
       "  'path': Value(dtype='null', id=None)},\n",
       " 'original_predictions': Value(dtype='string', id=None),\n",
       " 'predictions': Value(dtype='string', id=None),\n",
       " 'image_result_indexes': Sequence(feature=Value(dtype='int32', id=None), length=-1, id=None),\n",
       " 'images_result': {'bytes': Value(dtype='binary', id=None),\n",
       "  'path': Value(dtype='null', id=None)},\n",
       " 'parsing_score': Value(dtype='float64', id=None),\n",
       " 'compiling_score': Value(dtype='float64', id=None),\n",
       " 'predictions_patches': Value(dtype='string', id=None),\n",
       " 'LPIPSMetric': Value(dtype='float32', id=None),\n",
       " 'TERPatchMetric': Value(dtype='float32', id=None),\n",
       " 'MSSSIMMetric': Value(dtype='float32', id=None),\n",
       " 'ChrfMetric': Value(dtype='float32', id=None),\n",
       " 'BleuMetric': Value(dtype='float32', id=None),\n",
       " 'PSNRMetric': Value(dtype='float32', id=None),\n",
       " 'ClipImageMetric': Value(dtype='float32', id=None),\n",
       " 'MSEMetric': Value(dtype='float32', id=None),\n",
       " 'ChrfPatchMetric': Value(dtype='float32', id=None),\n",
       " 'TERMetric': Value(dtype='float32', id=None),\n",
       " 'BleuPatchMetric': Value(dtype='float32', id=None),\n",
       " 'LineMetric': Value(dtype='float32', id=None),\n",
       " 'PatchMetric': Value(dtype='float32', id=None),\n",
       " 'ClipTextMetric': Value(dtype='float32', id=None),\n",
       " 'FeatureMatchMetric': Value(dtype='float32', id=None),\n",
       " 'CrystalBleuPatchMetric': Value(dtype='float32', id=None),\n",
       " 'CrystalBleuMetric': Value(dtype='float32', id=None),\n",
       " '__index_level_0__': Value(dtype='int64', id=None)}"
      ]
     },
     "execution_count": 6,
     "metadata": {},
     "output_type": "execute_result"
    }
   ],
   "source": [
    "concat_datasets.features"
   ]
  },
  {
   "cell_type": "code",
   "execution_count": 12,
   "metadata": {},
   "outputs": [
    {
     "data": {
      "text/plain": [
       "0      simpleLLM_benchmark_deepseekr1distillllama70b_...\n",
       "50      simpleLLM_benchmark_llama3.18binstant_pk_1_t_0.7\n",
       "100    simpleLLM_benchmark_llama3.370bversatile_pk_1_...\n",
       "150         simpleLLM_benchmark_llama370b8192_pk_1_t_0.7\n",
       "200      simpleLLM_benchmark_mixtral8x7b32768_pk_1_t_0.7\n",
       "Name: config, dtype: object"
      ]
     },
     "execution_count": 12,
     "metadata": {},
     "output_type": "execute_result"
    }
   ],
   "source": [
    "concat_df[concat_df[\"id\"] == \"donkey_higher_mane\"][\"config\"]\n"
   ]
  },
  {
   "cell_type": "code",
   "execution_count": null,
   "metadata": {},
   "outputs": [],
   "source": []
  }
 ],
 "metadata": {
  "kernelspec": {
   "display_name": "metricbench",
   "language": "python",
   "name": "python3"
  },
  "language_info": {
   "codemirror_mode": {
    "name": "ipython",
    "version": 3
   },
   "file_extension": ".py",
   "mimetype": "text/x-python",
   "name": "python",
   "nbconvert_exporter": "python",
   "pygments_lexer": "ipython3",
   "version": "3.12.8"
  }
 },
 "nbformat": 4,
 "nbformat_minor": 2
}
