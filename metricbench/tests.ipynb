{
 "cells": [
  {
   "cell_type": "code",
   "execution_count": 18,
   "metadata": {},
   "outputs": [],
   "source": [
    "from datasets import (\n",
    "    get_dataset_config_names,\n",
    "    concatenate_datasets,\n",
    "    Dataset,\n",
    "    load_dataset,\n",
    "    Image,\n",
    ")\n",
    "import PIL\n",
    "import io\n",
    "from huggingface_hub import login\n",
    "import os\n",
    "import pandas as pd\n",
    "\n",
    "conf_ds = load_dataset(\n",
    "    \"CharlyR/varbench-evaluation\",\n",
    "    \"simpleLLM_benchmark_deepseekr1distillllama70b_pk_1_t_0.7\",\n",
    "    split=\"tikz\",\n",
    ")\n",
    "conf_ds = conf_ds.select_columns(\n",
    "    [\n",
    "        \"code_solution\",\n",
    "        \"id\",\n",
    "        \"images_result\",\n",
    "        \"image_result_indexes\",\n",
    "        \"predictions_patches\",\n",
    "        \"predictions\",\n",
    "        \"ImageEqualityMetric\",\n",
    "        \"TemplateMetric\",\n",
    "    ]\n",
    ").select([5])"
   ]
  },
  {
   "cell_type": "code",
   "execution_count": 19,
   "metadata": {},
   "outputs": [
    {
     "name": "stderr",
     "output_type": "stream",
     "text": [
      "Map: 100%|██████████| 1/1 [00:00<00:00, 129.00 examples/s]\n",
      "Map: 100%|██████████| 1/1 [00:00<00:00, 127.11 examples/s]\n"
     ]
    }
   ],
   "source": [
    "\n",
    "from datasets import (\n",
    "    get_dataset_config_names,\n",
    "    concatenate_datasets,\n",
    "    Dataset,\n",
    "    load_dataset,\n",
    "    Image,\n",
    ")\n",
    "import PIL\n",
    "import io\n",
    "from huggingface_hub import login\n",
    "import os\n",
    "import pandas as pd\n",
    "\n",
    "def _extend_metric_computations(dataset: Dataset) -> Dataset:\n",
    "    \"\"\"The image-based metrics in the dataset are only computed for x out of y code generated, because some of the code can't compile.\n",
    "    During the compiling(method _images), we compute the indexes of the images that did compute and put it in an array.\n",
    "    This method takes as input the dataset, find the names of the columns that contains image-based metrics, and extends the computed\n",
    "    list with Nones in the places where the code could not render(be compiled into) an image\n",
    "    \"\"\"\n",
    "\n",
    "    metrics_names = [name for name in dataset.column_names if \"Metric\" in name]\n",
    "    potential_image_metrics_names = [\n",
    "        name\n",
    "        for name in metrics_names\n",
    "        if any(\n",
    "            len(val) < len(parsed) \n",
    "            for row, parsed in zip(dataset[name], dataset[\"predictions_patches\"]) \n",
    "            for val in row)\n",
    "    ]  # named potential because if all images have been compiled without error we skip the process completely\n",
    "\n",
    "    def _ext_none(row, col_name: str):\n",
    "        \"Extends the row with nones at unreferenced indexes\"\n",
    "        initial = [None] * len(row[\"predictions_patches\"])\n",
    "        for index, ar_value in zip(row[\"image_result_indexes\"], row[col_name]):\n",
    "            initial[index] = ar_value\n",
    "        row[col_name] = initial\n",
    "        return row\n",
    "\n",
    "    def _ext_none_metric(row, col_name: str):\n",
    "        \"Extends the row with nones at unreferenced indexes\"\n",
    "        initial = [[None] * len(row[\"predictions\"])] * len(row[\"code_solution\"])\n",
    "        for ind, sub_eval in enumerate(row[col_name]):\n",
    "            for index, ar_value in zip(row[\"image_result_indexes\"], sub_eval):\n",
    "                initial[ind][index] = ar_value\n",
    "        row[col_name] = initial\n",
    "        return row\n",
    "\n",
    "    dataset = dataset.map(_ext_none, fn_kwargs={\"col_name\": \"images_result\"})\n",
    "    for metric_name in potential_image_metrics_names:\n",
    "        dataset = dataset.map(_ext_none_metric, fn_kwargs={\"col_name\": metric_name})\n",
    "    return dataset\n",
    "\n",
    "conf_ds = _extend_metric_computations(conf_ds)"
   ]
  },
  {
   "cell_type": "code",
   "execution_count": 20,
   "metadata": {},
   "outputs": [
    {
     "data": {
      "text/plain": [
       "{'code_solution': ['\\\\documentclass[tikz,border=5]{standalone}\\n\\\\usepackage[prefix=]{xcolor-material}\\n\\\\tikzset{\\nhalf clip/.code={\\n\\\\clip (0, -256) rectangle (256, 256);\\n},\\ncolor alias/.code args={#1 as #2}{\\\\colorlet{#1}{#2}},\\ncolors alias/.style={color alias/.list/.expanded={#1}},\\nexecute/.code={#1},\\non left/.style={.. on left/.style={#1}},\\non right/.style={.. on right/.style={#1}},\\n}\\n\\\\newcommand\\\\reflect[2][]{\\n\\\\begin{scope}[#1]\\\\foreach \\\\side in {-1, 1}{\\\\begin{scope}\\n\\\\ifnum\\\\side=-1 \\\\tikzset{.. on left/.try}\\\\else\\\\tikzset{.. on right/.try}\\\\fi\\n\\\\begin{scope}[xscale=\\\\side]#2\\\\end{scope}\\n\\\\end{scope}}\\\\end{scope}}\\n\\\\tikzset{\\nbee/.pic={\\n\\\\begin{scope}[x=3cm/480,y=3cm/480, rotate=-45, shift=(270:48)]\\n\\\\reflect[\\non left= {colors alias={body as BlueGrey800, stripes as Amber500}},\\non right={colors alias={body as BlueGrey900, stripes as Amber700}, half clip},\\nlower wing/.style={fill=BlueGrey200}, upper wing/.style={fill=BlueGrey50}, middle wing/.style={fill=BlueGrey100}]{\\n\\\\fill [body] (0,-160)\\n.. controls ++(120:64) and ++(270:64) .. (-88, -16)\\n.. controls ++( 90:64) and ++(225:64) .. ( 0, 128)\\n.. controls ++(315:64) and ++( 90:64) .. ( 88, -16)\\n.. controls ++(270:64) and ++( 60:64) .. cycle;\\n\\\\fill [body] (0,128) ellipse [x radius=80, y radius=56];\\n\\\\fill [body]\\n(32,160) arc (180:90:64) -- ++(6,-6) coordinate [midway] (@)\\narc (90:180:64) -- cycle;\\n\\\\fill [body] (@) circle [radius=12];\\n\\\\begin{scope}\\n\\\\clip (0,-160)\\n.. controls ++(120:64) and ++(270:64) .. (-88, -16)\\n.. controls ++( 90:64) and ++(225:64) .. ( 0, 128)\\n.. controls ++(315:64) and ++( 90:64) .. ( 88, -16)\\n.. controls ++(270:64) and ++( 60:64) .. cycle;\\n\\\\foreach \\\\i in {0,...,2}\\n\\\\fill [stripes] (-256, -160 + \\\\i*80) rectangle ++(512, 40);\\n\\\\end{scope}\\n\\\\foreach \\\\s [count=\\\\i from -1] in {lower wing, middle wing, upper wing}\\n\\\\fill [style=\\\\s, shift={(16,56)}, rotate=\\\\i*32]\\n(0,0)\\n.. controls ++( 30:64) and ++(180:32) .. (128,56)\\narc (90:-90:56)\\n.. controls ++(180:32) and ++(330:64) .. cycle;\\n}\\n\\\\end{scope}}\\n}\\n\\\\begin{document}\\n\\\\begin{tikzpicture}\\n\\\\fill [fill=LightBlue300] circle [radius=2];\\n\\\\pic {bee};\\n\\\\end{tikzpicture}\\n\\\\end{document}',\n",
       "  '\\\\documentclass[tikz,border=5]{standalone}\\n\\\\usepackage[prefix=]{xcolor-material}\\n\\\\tikzset{\\nhalf clip/.code={\\n\\\\clip (0, -256) rectangle (256, 256);\\n},\\ncolor alias/.code args={#1 as #2}{\\\\colorlet{#1}{#2}},\\ncolors alias/.style={color alias/.list/.expanded={#1}},\\nexecute/.code={#1},\\non left/.style={.. on left/.style={#1}},\\non right/.style={.. on right/.style={#1}},\\n}\\n\\\\newcommand\\\\reflect[2][]{\\n\\\\begin{scope}[#1]\\\\foreach \\\\side in {-1, 1}{\\\\begin{scope}\\n\\\\ifnum\\\\side=-1 \\\\tikzset{.. on left/.try}\\\\else\\\\tikzset{.. on right/.try}\\\\fi\\n\\\\begin{scope}[xscale=\\\\side]#2\\\\end{scope}\\n\\\\end{scope}}\\\\end{scope}}\\n\\\\tikzset{\\nbee/.pic={\\n\\\\begin{scope}[x=3cm/480,y=3cm/480, rotate=-45, shift=(270:48)]\\n\\\\reflect[\\non left= {colors alias={body as BlueGrey800, stripes as Amber500}},\\non right={colors alias={body as BlueGrey900, stripes as Amber700}, half clip},\\nlower wing/.style={fill=BlueGrey200}, middle wing/.style={fill=BlueGrey100}, upper wing/.style={fill=BlueGrey50}]{\\n\\\\fill [body] (0,-160)\\n.. controls ++(120:64) and ++(270:64) .. (-88, -16)\\n.. controls ++( 90:64) and ++(225:64) .. ( 0, 128)\\n.. controls ++(315:64) and ++( 90:64) .. ( 88, -16)\\n.. controls ++(270:64) and ++( 60:64) .. cycle;\\n\\\\fill [body] (0,128) ellipse [x radius=80, y radius=56];\\n\\\\fill [body]\\n(32,160) arc (180:90:64) -- ++(6,-6) coordinate [midway] (@)\\narc (90:180:64) -- cycle;\\n\\\\fill [body] (@) circle [radius=12];\\n\\\\begin{scope}\\n\\\\clip (0,-160)\\n.. controls ++(120:64) and ++(270:64) .. (-88, -16)\\n.. controls ++( 90:64) and ++(225:64) .. ( 0, 128)\\n.. controls ++(315:64) and ++( 90:64) .. ( 88, -16)\\n.. controls ++(270:64) and ++( 60:64) .. cycle;\\n\\\\foreach \\\\i in {0,...,2}\\n\\\\fill [stripes] (-256, -160 + \\\\i*80) rectangle ++(512, 40);\\n\\\\end{scope}\\n\\\\foreach \\\\s [count=\\\\i from -1] in {lower wing, middle wing, upper wing}\\n\\\\fill [style=\\\\s, shift={(16,56)}, rotate=\\\\i*32]\\n(0,0)\\n.. controls ++( 30:64) and ++(180:32) .. (128,56)\\narc (90:-90:56)\\n.. controls ++(180:32) and ++(330:64) .. cycle;\\n}\\n\\\\end{scope}}\\n}\\n\\\\begin{document}\\n\\\\begin{tikzpicture}\\n\\\\fill [fill=LightBlue300] circle [radius=2];\\n\\\\pic {bee};\\n\\\\end{tikzpicture}\\n\\\\end{document}'],\n",
       " 'id': 'bee_three_wings',\n",
       " 'images_result': [None],\n",
       " 'image_result_indexes': [],\n",
       " 'predictions_patches': ['@@ -24 +24,3 @@\\n\\n-lower wing/.style={fill=BlueGrey100}, upper wing/.style={fill=BlueGrey50}]{\\n+lower wing/.style={fill=BlueGrey100},\\n+upper wing/.style={fill=BlueGrey50},\\n+third wing/.style={fill=BlueGrey300}}]{\\n@@ -49,0 +52,5 @@\\n\\n+\\\\fill [third wing] [shift={(16,56)}, rotate=-16]\\n+(0,0)\\n+.. controls ++( 30:64) and ++(180:32) .. (128,56)\\n+arc (90:-90:56)\\n+.. controls ++(180:32) and ++(330:64) .. cycle;'],\n",
       " 'predictions': ['\\\\documentclass[tikz,border=5]{standalone}\\n\\\\usepackage[prefix=]{xcolor-material}\\n\\\\tikzset{\\nhalf clip/.code={\\n\\\\clip (0, -256) rectangle (256, 256);\\n},\\ncolor alias/.code args={#1 as #2}{\\\\colorlet{#1}{#2}},\\ncolors alias/.style={color alias/.list/.expanded={#1}},\\nexecute/.code={#1},\\non left/.style={.. on left/.style={#1}},\\non right/.style={.. on right/.style={#1}},\\n}\\n\\\\newcommand\\\\reflect[2][]{\\n\\\\begin{scope}[#1]\\\\foreach \\\\side in {-1, 1}{\\\\begin{scope}\\n\\\\ifnum\\\\side=-1 \\\\tikzset{.. on left/.try}\\\\else\\\\tikzset{.. on right/.try}\\\\fi\\n\\\\begin{scope}[xscale=\\\\side]#2\\\\end{scope}\\n\\\\end{scope}}\\\\end{scope}}\\n\\\\tikzset{\\nbee/.pic={\\n\\\\begin{scope}[x=3cm/480,y=3cm/480, rotate=-45, shift=(270:48)]\\n\\\\reflect[\\non left= {colors alias={body as BlueGrey800, stripes as Amber500}},\\non right={colors alias={body as BlueGrey900, stripes as Amber700}, half clip},\\nlower wing/.style={fill=BlueGrey100},\\nupper wing/.style={fill=BlueGrey50},\\nthird wing/.style={fill=BlueGrey300}}]{\\n\\\\fill [body] (0,-160)\\n.. controls ++(120:64) and ++(270:64) .. (-88, -16)\\n.. controls ++( 90:64) and ++(225:64) .. ( 0, 128)\\n.. controls ++(315:64) and ++( 90:64) .. ( 88, -16)\\n.. controls ++(270:64) and ++( 60:64) .. cycle;\\n\\\\fill [body] (0,128) ellipse [x radius=80, y radius=56];\\n\\\\fill [body]\\n(32,160) arc (180:90:64) -- ++(6,-6) coordinate [midway] (@)\\narc (90:180:64) -- cycle;\\n\\\\fill [body] (@) circle [radius=12];\\n\\\\begin{scope}\\n\\\\clip (0,-160)\\n.. controls ++(120:64) and ++(270:64) .. (-88, -16)\\n.. controls ++( 90:64) and ++(225:64) .. ( 0, 128)\\n.. controls ++(315:64) and ++( 90:64) .. ( 88, -16)\\n.. controls ++(270:64) and ++( 60:64) .. cycle;\\n\\\\foreach \\\\i in {0,...,2}\\n\\\\fill [stripes] (-256, -160 + \\\\i*80) rectangle ++(512, 40);\\n\\\\end{scope}\\n\\\\foreach \\\\s [count=\\\\i from -1] in {lower wing, upper wing}\\n\\\\fill [style=\\\\s, shift={(16,56)}, rotate=\\\\i*32]\\n(0,0)\\n.. controls ++( 30:64) and ++(180:32) .. (128,56)\\narc (90:-90:56)\\n.. controls ++(180:32) and ++(330:64) .. cycle;\\n\\\\fill [third wing] [shift={(16,56)}, rotate=-16]\\n(0,0)\\n.. controls ++( 30:64) and ++(180:32) .. (128,56)\\narc (90:-90:56)\\n.. controls ++(180:32) and ++(330:64) .. cycle;\\n}\\n\\\\end{scope}}\\n}\\n\\\\begin{document}\\n\\\\begin{tikzpicture}\\n\\\\fill [fill=LightBlue300] circle [radius=2];\\n\\\\pic {bee};\\n\\\\end{tikzpicture}\\n\\\\end{document}'],\n",
       " 'ImageEqualityMetric': [[None], [None]],\n",
       " 'TemplateMetric': [[0.0], [0.0]]}"
      ]
     },
     "execution_count": 20,
     "metadata": {},
     "output_type": "execute_result"
    }
   ],
   "source": [
    "conf_ds[0]"
   ]
  },
  {
   "cell_type": "code",
   "execution_count": null,
   "metadata": {},
   "outputs": [],
   "source": [
    "from collections import Counter\n",
    "for idx, row in concat_df.iterrows():\n",
    "    # Compute lengths for each column in the row\n",
    "    lengths = {col: len(row[col]) for col in concat_df[computed_metrics_names + [\"images_result\",\"predictions\", \"predictions_patches\",\"passk_index\"]].columns}\n",
    "    # Determine the most common (expected) length in this row\n",
    "    common_length = len(row[\"predictions_patches\"])\n",
    "    # Identify columns where the array length deviates\n",
    "    for col, arr_length in lengths.items():\n",
    "        if arr_length != common_length:\n",
    "            print(f\"Row {idx}: Column '{col}' length {arr_length} (expected {common_length}).\")"
   ]
  }
 ],
 "metadata": {
  "kernelspec": {
   "display_name": "metricbench",
   "language": "python",
   "name": "python3"
  },
  "language_info": {
   "codemirror_mode": {
    "name": "ipython",
    "version": 3
   },
   "file_extension": ".py",
   "mimetype": "text/x-python",
   "name": "python",
   "nbconvert_exporter": "python",
   "pygments_lexer": "ipython3",
   "version": "3.12.8"
  }
 },
 "nbformat": 4,
 "nbformat_minor": 2
}
