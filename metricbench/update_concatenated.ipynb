{
 "cells": [
  {
   "cell_type": "code",
   "execution_count": 1,
   "metadata": {},
   "outputs": [
    {
     "name": "stderr",
     "output_type": "stream",
     "text": [
      "/home/creux/miniconda3/envs/metricbench/lib/python3.12/site-packages/tqdm/auto.py:21: TqdmWarning: IProgress not found. Please update jupyter and ipywidgets. See https://ipywidgets.readthedocs.io/en/stable/user_install.html\n",
      "  from .autonotebook import tqdm as notebook_tqdm\n",
      "Map: 100%|██████████| 1113/1113 [00:00<00:00, 2935.35 examples/s]\n",
      "Map: 100%|██████████| 1113/1113 [00:00<00:00, 7658.42 examples/s]s]\n",
      "Creating parquet from Arrow format: 100%|██████████| 12/12 [00:00<00:00, 179.26ba/s]\n",
      "Uploading the dataset shards: 100%|██████████| 1/1 [00:00<00:00,  1.84it/s]\n"
     ]
    },
    {
     "data": {
      "text/plain": [
       "CommitInfo(commit_url='https://huggingface.co/datasets/CharlyR/varbench-metric-evaluation/commit/08e77aa60ba536b21efcb608edd55043467e5dd1', commit_message='Upload dataset', commit_description='', oid='08e77aa60ba536b21efcb608edd55043467e5dd1', pr_url=None, repo_url=RepoUrl('https://huggingface.co/datasets/CharlyR/varbench-metric-evaluation', endpoint='https://huggingface.co', repo_type='dataset', repo_id='CharlyR/varbench-metric-evaluation'), pr_revision=None, pr_num=None)"
      ]
     },
     "execution_count": 1,
     "metadata": {},
     "output_type": "execute_result"
    }
   ],
   "source": [
    "from datasets import load_dataset\n",
    "\n",
    "#TODO if new metric to add, use \"treated_new\" instead\n",
    "def merge_datasets(source_dataset_name, target_dataset_name):\n",
    "    # Load the datasets from Hugging Face\n",
    "    source_dataset = load_dataset(source_dataset_name, split=\"benchmark\")\n",
    "    target_dataset = load_dataset(target_dataset_name, \"treated\", split=\"train\")\n",
    "\n",
    "    # Convert source dataset to a dictionary for quick lookup\n",
    "    source_dict = {\n",
    "        (row[\"id\"]): row[\"difficulty_ast\"] for row in source_dataset\n",
    "    }\n",
    "\n",
    "    # Function to update target dataset\n",
    "    def add_ast_difficulty(row):\n",
    "        key = (row[\"id\"])\n",
    "        row[\"difficulty_ast\"] = source_dict.get(\n",
    "            key, None\n",
    "        )  # Add value or None if not found\n",
    "        return row\n",
    "\n",
    "    # Apply the function to the target dataset\n",
    "    updated_target_dataset = target_dataset.map(add_ast_difficulty)\n",
    "\n",
    "    return updated_target_dataset\n",
    "\n",
    "\n",
    "# Example usage\n",
    "updated_dataset = merge_datasets(\n",
    "    \"CharlyR/varbench\", \"CharlyR/varbench-metric-evaluation\"\n",
    ")\n",
    "updated_dataset.to_pandas()\n",
    "updated_dataset.push_to_hub(\n",
    "        \"CharlyR/varbench-metric-evaluation\", config_name=\"treated_ast_diff\"\n",
    "    )"
   ]
  },
  {
   "cell_type": "code",
   "execution_count": null,
   "metadata": {},
   "outputs": [
    {
     "name": "stderr",
     "output_type": "stream",
     "text": [
      "Generating train split: 100%|██████████| 1113/1113 [00:00<00:00, 7255.35 examples/s]\n",
      "Generating train split: 100%|██████████| 1113/1113 [00:00<00:00, 7247.19 examples/s]\n"
     ]
    },
    {
     "ename": "TypeError",
     "evalue": "unsupported operand type(s) for +: 'int' and 'str'",
     "output_type": "error",
     "traceback": [
      "\u001b[0;31m---------------------------------------------------------------------------\u001b[0m",
      "\u001b[0;31mTypeError\u001b[0m                                 Traceback (most recent call last)",
      "Cell \u001b[0;32mIn[9], line 4\u001b[0m\n\u001b[1;32m      1\u001b[0m a\u001b[38;5;241m=\u001b[39m load_dataset(\u001b[38;5;124m\"\u001b[39m\u001b[38;5;124mCharlyR/varbench-metric-evaluation\u001b[39m\u001b[38;5;124m\"\u001b[39m, \u001b[38;5;124m\"\u001b[39m\u001b[38;5;124mtreated\u001b[39m\u001b[38;5;124m\"\u001b[39m, split\u001b[38;5;241m=\u001b[39m\u001b[38;5;124m\"\u001b[39m\u001b[38;5;124mtrain\u001b[39m\u001b[38;5;124m\"\u001b[39m)\n\u001b[1;32m      2\u001b[0m b\u001b[38;5;241m=\u001b[39m load_dataset(\u001b[38;5;124m\"\u001b[39m\u001b[38;5;124mCharlyR/varbench-metric-evaluation\u001b[39m\u001b[38;5;124m\"\u001b[39m, \u001b[38;5;124m\"\u001b[39m\u001b[38;5;124mtreated_ast_diff\u001b[39m\u001b[38;5;124m\"\u001b[39m, split\u001b[38;5;241m=\u001b[39m\u001b[38;5;124m\"\u001b[39m\u001b[38;5;124mtrain\u001b[39m\u001b[38;5;124m\"\u001b[39m)\n\u001b[0;32m----> 4\u001b[0m \u001b[38;5;28mprint\u001b[39m(\u001b[38;5;28;43mlen\u001b[39;49m\u001b[43m(\u001b[49m\u001b[43ma\u001b[49m\u001b[43m)\u001b[49m\u001b[38;5;241;43m+\u001b[39;49m\u001b[38;5;124;43m\"\u001b[39;49m\u001b[38;5;124;43m   \u001b[39;49m\u001b[38;5;124;43m\"\u001b[39;49m\u001b[38;5;241m+\u001b[39m\u001b[38;5;28mlen\u001b[39m(b))\n",
      "\u001b[0;31mTypeError\u001b[0m: unsupported operand type(s) for +: 'int' and 'str'"
     ]
    }
   ],
   "source": [
    "a= load_dataset(\"CharlyR/varbench-metric-evaluation\", \"treated\", split=\"train\")\n",
    "b= load_dataset(\"CharlyR/varbench-metric-evaluation\", \"treated_ast_diff\", split=\"train\")\n"
   ]
  },
  {
   "cell_type": "code",
   "execution_count": 18,
   "metadata": {},
   "outputs": [
    {
     "name": "stdout",
     "output_type": "stream",
     "text": [
      "1113   1113\n",
      "['difficulty_ast']\n"
     ]
    }
   ],
   "source": [
    "print(str(len(a))+\"   \"+str(len(b)))\n",
    "print(list(set(b.column_names)-set(a.column_names)))"
   ]
  },
  {
   "cell_type": "code",
   "execution_count": 19,
   "metadata": {},
   "outputs": [
    {
     "name": "stderr",
     "output_type": "stream",
     "text": [
      "Map: 100%|██████████| 1113/1113 [00:00<00:00, 4996.53 examples/s]s]\n",
      "Creating parquet from Arrow format: 100%|██████████| 12/12 [00:00<00:00, 158.11ba/s]\n",
      "Uploading the dataset shards: 100%|██████████| 1/1 [00:00<00:00,  1.07it/s]\n"
     ]
    },
    {
     "data": {
      "text/plain": [
       "CommitInfo(commit_url='https://huggingface.co/datasets/CharlyR/varbench-metric-evaluation/commit/39fb21480db9d25be5a8d1a6858675e7387e70b9', commit_message='Upload dataset', commit_description='', oid='39fb21480db9d25be5a8d1a6858675e7387e70b9', pr_url=None, repo_url=RepoUrl('https://huggingface.co/datasets/CharlyR/varbench-metric-evaluation', endpoint='https://huggingface.co', repo_type='dataset', repo_id='CharlyR/varbench-metric-evaluation'), pr_revision=None, pr_num=None)"
      ]
     },
     "execution_count": 19,
     "metadata": {},
     "output_type": "execute_result"
    }
   ],
   "source": [
    "b.push_to_hub(\n",
    "        \"CharlyR/varbench-metric-evaluation\", config_name=\"treated\"\n",
    "    )"
   ]
  }
 ],
 "metadata": {
  "kernelspec": {
   "display_name": "metricbench",
   "language": "python",
   "name": "python3"
  },
  "language_info": {
   "codemirror_mode": {
    "name": "ipython",
    "version": 3
   },
   "file_extension": ".py",
   "mimetype": "text/x-python",
   "name": "python",
   "nbconvert_exporter": "python",
   "pygments_lexer": "ipython3",
   "version": "3.12.8"
  }
 },
 "nbformat": 4,
 "nbformat_minor": 2
}
